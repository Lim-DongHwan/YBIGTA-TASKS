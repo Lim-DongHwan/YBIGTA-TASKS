{
 "cells": [
  {
   "cell_type": "markdown",
   "id": "c2c1cdf5",
   "metadata": {
    "id": "c2c1cdf5"
   },
   "source": [
    "# 필요한 모듈 임포트"
   ]
  },
  {
   "cell_type": "code",
   "execution_count": 49,
   "id": "F65VNN-Ib0Zr",
   "metadata": {
    "id": "F65VNN-Ib0Zr"
   },
   "outputs": [
    {
     "name": "stdout",
     "output_type": "stream",
     "text": [
      "Requirement already satisfied: selenium==4.8.2 in c:\\users\\user\\anaconda3\\lib\\site-packages (4.8.2)Note: you may need to restart the kernel to use updated packages.\n",
      "\n",
      "Requirement already satisfied: urllib3[socks]~=1.26 in c:\\users\\user\\anaconda3\\lib\\site-packages (from selenium==4.8.2) (1.26.16)\n",
      "Requirement already satisfied: trio~=0.17 in c:\\users\\user\\anaconda3\\lib\\site-packages (from selenium==4.8.2) (0.22.1)\n",
      "Requirement already satisfied: trio-websocket~=0.9 in c:\\users\\user\\anaconda3\\lib\\site-packages (from selenium==4.8.2) (0.10.3)\n",
      "Requirement already satisfied: certifi>=2021.10.8 in c:\\users\\user\\anaconda3\\lib\\site-packages (from selenium==4.8.2) (2023.5.7)\n",
      "Requirement already satisfied: attrs>=20.1.0 in c:\\users\\user\\anaconda3\\lib\\site-packages (from trio~=0.17->selenium==4.8.2) (22.1.0)\n",
      "Requirement already satisfied: sortedcontainers in c:\\users\\user\\anaconda3\\lib\\site-packages (from trio~=0.17->selenium==4.8.2) (2.4.0)\n",
      "Requirement already satisfied: idna in c:\\users\\user\\anaconda3\\lib\\site-packages (from trio~=0.17->selenium==4.8.2) (3.4)\n",
      "Requirement already satisfied: outcome in c:\\users\\user\\anaconda3\\lib\\site-packages (from trio~=0.17->selenium==4.8.2) (1.2.0)\n",
      "Requirement already satisfied: sniffio in c:\\users\\user\\anaconda3\\lib\\site-packages (from trio~=0.17->selenium==4.8.2) (1.2.0)\n",
      "Requirement already satisfied: cffi>=1.14 in c:\\users\\user\\anaconda3\\lib\\site-packages (from trio~=0.17->selenium==4.8.2) (1.15.1)\n",
      "Requirement already satisfied: exceptiongroup>=1.0.0rc9 in c:\\users\\user\\anaconda3\\lib\\site-packages (from trio~=0.17->selenium==4.8.2) (1.0.4)\n",
      "Requirement already satisfied: wsproto>=0.14 in c:\\users\\user\\anaconda3\\lib\\site-packages (from trio-websocket~=0.9->selenium==4.8.2) (1.2.0)\n",
      "Requirement already satisfied: PySocks!=1.5.7,<2.0,>=1.5.6 in c:\\users\\user\\anaconda3\\lib\\site-packages (from urllib3[socks]~=1.26->selenium==4.8.2) (1.7.1)\n",
      "Requirement already satisfied: pycparser in c:\\users\\user\\anaconda3\\lib\\site-packages (from cffi>=1.14->trio~=0.17->selenium==4.8.2) (2.21)\n",
      "Requirement already satisfied: h11<1,>=0.9.0 in c:\\users\\user\\anaconda3\\lib\\site-packages (from wsproto>=0.14->trio-websocket~=0.9->selenium==4.8.2) (0.14.0)\n"
     ]
    }
   ],
   "source": [
    "pip install selenium==4.8.2"
   ]
  },
  {
   "cell_type": "code",
   "execution_count": 50,
   "id": "18f49a25",
   "metadata": {
    "id": "18f49a25",
    "outputId": "a41a7122-255b-48c0-f40b-4975739af304"
   },
   "outputs": [
    {
     "name": "stdout",
     "output_type": "stream",
     "text": [
      "Requirement already satisfied: webdriver_manager in c:\\users\\user\\anaconda3\\lib\\site-packages (3.8.6)\n",
      "Requirement already satisfied: requests in c:\\users\\user\\anaconda3\\lib\\site-packages (from webdriver_manager) (2.29.0)\n",
      "Requirement already satisfied: python-dotenv in c:\\users\\user\\anaconda3\\lib\\site-packages (from webdriver_manager) (1.0.0)\n",
      "Requirement already satisfied: tqdm in c:\\users\\user\\anaconda3\\lib\\site-packages (from webdriver_manager) (4.65.0)\n",
      "Requirement already satisfied: packaging in c:\\users\\user\\anaconda3\\lib\\site-packages (from webdriver_manager) (23.0)\n",
      "Requirement already satisfied: charset-normalizer<4,>=2 in c:\\users\\user\\anaconda3\\lib\\site-packages (from requests->webdriver_manager) (2.0.4)\n",
      "Requirement already satisfied: idna<4,>=2.5 in c:\\users\\user\\anaconda3\\lib\\site-packages (from requests->webdriver_manager) (3.4)\n",
      "Requirement already satisfied: urllib3<1.27,>=1.21.1 in c:\\users\\user\\anaconda3\\lib\\site-packages (from requests->webdriver_manager) (1.26.16)\n",
      "Requirement already satisfied: certifi>=2017.4.17 in c:\\users\\user\\anaconda3\\lib\\site-packages (from requests->webdriver_manager) (2023.5.7)\n",
      "Requirement already satisfied: colorama in c:\\users\\user\\anaconda3\\lib\\site-packages (from tqdm->webdriver_manager) (0.4.6)\n",
      "4.8.2\n"
     ]
    }
   ],
   "source": [
    "from bs4 import BeautifulSoup\n",
    "import selenium\n",
    "from selenium import webdriver\n",
    "!pip install webdriver_manager\n",
    "from selenium.webdriver.chrome.service import Service\n",
    "from webdriver_manager.chrome import ChromeDriverManager\n",
    "import pandas as pd\n",
    "import numpy as np\n",
    "import time\n",
    "from selenium.webdriver.common.by import By\n",
    "from selenium.webdriver.common.keys import Keys\n",
    "from selenium.webdriver.support.ui import WebDriverWait\n",
    "from selenium.webdriver.support import expected_conditions as EC\n",
    "import re\n",
    "print(selenium.__version__)"
   ]
  },
  {
   "cell_type": "code",
   "execution_count": 87,
   "id": "c3527ca4",
   "metadata": {
    "id": "c3527ca4",
    "outputId": "c940262b-fef5-4475-f8b0-37f437cf16aa"
   },
   "outputs": [
    {
     "name": "stdout",
     "output_type": "stream",
     "text": [
      "1번째 코디 정보 크롤링\n",
      "---------------------------------------------------\n",
      "2번째 코디 정보 크롤링\n",
      "---------------------------------------------------\n",
      "3번째 코디 정보 크롤링\n",
      "---------------------------------------------------\n",
      "4번째 코디 정보 크롤링\n",
      "---------------------------------------------------\n",
      "5번째 코디 정보 크롤링\n",
      "---------------------------------------------------\n",
      "6번째 코디 정보 크롤링\n",
      "---------------------------------------------------\n",
      "7번째 코디 정보 크롤링\n",
      "---------------------------------------------------\n",
      "8번째 코디 정보 크롤링\n",
      "---------------------------------------------------\n",
      "9번째 코디 정보 크롤링\n",
      "---------------------------------------------------\n",
      "10번째 코디 정보 크롤링\n",
      "---------------------------------------------------\n",
      "11번째 코디 정보 크롤링\n",
      "---------------------------------------------------\n",
      "12번째 코디 정보 크롤링\n",
      "---------------------------------------------------\n",
      "13번째 코디 정보 크롤링\n",
      "---------------------------------------------------\n",
      "14번째 코디 정보 크롤링\n",
      "---------------------------------------------------\n",
      "15번째 코디 정보 크롤링\n",
      "---------------------------------------------------\n",
      "16번째 코디 정보 크롤링\n",
      "---------------------------------------------------\n",
      "17번째 코디 정보 크롤링\n",
      "---------------------------------------------------\n",
      "18번째 코디 정보 크롤링\n",
      "---------------------------------------------------\n",
      "19번째 코디 정보 크롤링\n",
      "---------------------------------------------------\n",
      "20번째 코디 정보 크롤링\n",
      "---------------------------------------------------\n",
      "21번째 코디 정보 크롤링\n",
      "---------------------------------------------------\n",
      "22번째 코디 정보 크롤링\n",
      "---------------------------------------------------\n",
      "23번째 코디 정보 크롤링\n",
      "---------------------------------------------------\n",
      "24번째 코디 정보 크롤링\n",
      "---------------------------------------------------\n",
      "25번째 코디 정보 크롤링\n",
      "---------------------------------------------------\n",
      "26번째 코디 정보 크롤링\n",
      "---------------------------------------------------\n",
      "27번째 코디 정보 크롤링\n",
      "---------------------------------------------------\n",
      "28번째 코디 정보 크롤링\n",
      "---------------------------------------------------\n",
      "29번째 코디 정보 크롤링\n",
      "---------------------------------------------------\n",
      "30번째 코디 정보 크롤링\n",
      "---------------------------------------------------\n",
      "31번째 코디 정보 크롤링\n",
      "---------------------------------------------------\n",
      "32번째 코디 정보 크롤링\n",
      "---------------------------------------------------\n",
      "33번째 코디 정보 크롤링\n",
      "---------------------------------------------------\n",
      "34번째 코디 정보 크롤링\n",
      "---------------------------------------------------\n",
      "35번째 코디 정보 크롤링\n",
      "---------------------------------------------------\n",
      "36번째 코디 정보 크롤링\n",
      "---------------------------------------------------\n",
      "37번째 코디 정보 크롤링\n",
      "---------------------------------------------------\n",
      "38번째 코디 정보 크롤링\n",
      "---------------------------------------------------\n",
      "39번째 코디 정보 크롤링\n",
      "---------------------------------------------------\n",
      "40번째 코디 정보 크롤링\n",
      "---------------------------------------------------\n",
      "41번째 코디 정보 크롤링\n",
      "---------------------------------------------------\n",
      "42번째 코디 정보 크롤링\n",
      "---------------------------------------------------\n",
      "43번째 코디 정보 크롤링\n",
      "---------------------------------------------------\n",
      "44번째 코디 정보 크롤링\n",
      "---------------------------------------------------\n",
      "45번째 코디 정보 크롤링\n",
      "---------------------------------------------------\n",
      "46번째 코디 정보 크롤링\n",
      "---------------------------------------------------\n",
      "47번째 코디 정보 크롤링\n",
      "---------------------------------------------------\n",
      "48번째 코디 정보 크롤링\n",
      "---------------------------------------------------\n",
      "49번째 코디 정보 크롤링\n",
      "---------------------------------------------------\n",
      "50번째 코디 정보 크롤링\n",
      "---------------------------------------------------\n",
      "51번째 코디 정보 크롤링\n",
      "---------------------------------------------------\n",
      "52번째 코디 정보 크롤링\n",
      "---------------------------------------------------\n",
      "53번째 코디 정보 크롤링\n",
      "---------------------------------------------------\n",
      "54번째 코디 정보 크롤링\n",
      "---------------------------------------------------\n",
      "55번째 코디 정보 크롤링\n",
      "---------------------------------------------------\n",
      "56번째 코디 정보 크롤링\n",
      "---------------------------------------------------\n",
      "57번째 코디 정보 크롤링\n",
      "---------------------------------------------------\n",
      "58번째 코디 정보 크롤링\n",
      "---------------------------------------------------\n",
      "59번째 코디 정보 크롤링\n",
      "---------------------------------------------------\n",
      "60번째 코디 정보 크롤링\n",
      "---------------------------------------------------\n"
     ]
    }
   ],
   "source": [
    "import re\n",
    "\n",
    "options = webdriver.ChromeOptions()\n",
    "driver = webdriver.Chrome(service=Service(ChromeDriverManager().install()), options=options)\n",
    "codi_list = []\n",
    "url = 'https://store.musinsa.com/app/codimap/lists?style_type=&tag_no=&brand=&display_cnt=60&list_kind=big&sort=comment_cnt&page=1'\n",
    "driver.get(url)\n",
    "driver.implicitly_wait(2)\n",
    "\n",
    "columns = ['codimap_category', 'codimap_title', 'codimap_date', 'views', 'comment_numbers']\n",
    "values = []\n",
    "soup = BeautifulSoup(driver.page_source, 'html.parser')\n",
    "data_rows = soup.find_all('li', attrs={'class':'style-list-item'})\n",
    "\n",
    "for i, row in enumerate(data_rows):\n",
    "\n",
    "    print('{}번째 코디 정보 크롤링'.format(i+1))\n",
    "    blank = []\n",
    "\n",
    "    codimap_category = row.find('span', attrs={'class':'style-list-information__text'})\n",
    "    if codimap_category:\n",
    "        codimap_category = codimap_category.get_text().strip()\n",
    "        blank.append(codimap_category)\n",
    "    else:\n",
    "        blank.append('Something is wrong')\n",
    "        print('{}번째 codimap_category 가져올 때 문제 발생'.format(i+1))\n",
    "        continue\n",
    "\n",
    "    codimap_title = row.find('strong', attrs={'class':'style-list-information__title'})\n",
    "    if codimap_title:\n",
    "        codimap_title = codimap_title.get_text().strip()\n",
    "        blank.append(codimap_title)\n",
    "    else:\n",
    "        blank.append('Something is wrong')\n",
    "        print('{}번째 codimap_title 가져올 때 문제 발생'.format(i+1))\n",
    "        continue\n",
    "\n",
    "    post_information_texts = row.find_all('span', attrs={'class': 'post-information__text'})\n",
    "    if len(post_information_texts) >= 3:\n",
    "        codimap_date = post_information_texts[0].get_text().strip()\n",
    "        views_text = post_information_texts[1].get_text().strip()\n",
    "        comment_numbers_text = post_information_texts[2].get_text().strip()\n",
    "\n",
    "        views = re.sub('[^0-9]', '', views_text)  # 숫자 이외의 문자 제거\n",
    "        comment_numbers = re.sub('[^0-9]', '', comment_numbers_text)  # 숫자 이외의 문자 제거\n",
    "\n",
    "        blank.append(codimap_date)\n",
    "        blank.append(views)\n",
    "        blank.append(comment_numbers)\n",
    "    else:\n",
    "        blank.extend(['Something is wrong'] * 3)\n",
    "        print('{}번째 post-information__text 가져올 때 문제 발생'.format(i+1))\n",
    "        continue\n",
    "\n",
    "    values.append(blank)\n",
    "    print('---------------------------------------------------')\n",
    "\n",
    "df = pd.DataFrame(values, columns=columns)\n",
    "codi_list.append(df)\n"
   ]
  },
  {
   "cell_type": "code",
   "execution_count": 88,
   "id": "5a5f3756",
   "metadata": {
    "id": "5a5f3756",
    "outputId": "902694b8-86a6-4487-e6d5-71cb8bb6a0eb"
   },
   "outputs": [
    {
     "data": {
      "text/html": [
       "<div>\n",
       "<style scoped>\n",
       "    .dataframe tbody tr th:only-of-type {\n",
       "        vertical-align: middle;\n",
       "    }\n",
       "\n",
       "    .dataframe tbody tr th {\n",
       "        vertical-align: top;\n",
       "    }\n",
       "\n",
       "    .dataframe thead th {\n",
       "        text-align: right;\n",
       "    }\n",
       "</style>\n",
       "<table border=\"1\" class=\"dataframe\">\n",
       "  <thead>\n",
       "    <tr style=\"text-align: right;\">\n",
       "      <th></th>\n",
       "      <th>codimap_category</th>\n",
       "      <th>codimap_title</th>\n",
       "      <th>codimap_date</th>\n",
       "      <th>views</th>\n",
       "      <th>comment_numbers</th>\n",
       "    </tr>\n",
       "  </thead>\n",
       "  <tbody>\n",
       "    <tr>\n",
       "      <th>0</th>\n",
       "      <td>캐주얼</td>\n",
       "      <td>톤온톤 코디</td>\n",
       "      <td>21.07.02</td>\n",
       "      <td>15972</td>\n",
       "      <td>49</td>\n",
       "    </tr>\n",
       "    <tr>\n",
       "      <th>1</th>\n",
       "      <td>캐주얼</td>\n",
       "      <td>블랙 매니아</td>\n",
       "      <td>21.02.23</td>\n",
       "      <td>34641</td>\n",
       "      <td>46</td>\n",
       "    </tr>\n",
       "    <tr>\n",
       "      <th>2</th>\n",
       "      <td>캐주얼</td>\n",
       "      <td>오늘의 코디</td>\n",
       "      <td>22.03.22</td>\n",
       "      <td>12172</td>\n",
       "      <td>38</td>\n",
       "    </tr>\n",
       "    <tr>\n",
       "      <th>3</th>\n",
       "      <td>댄디</td>\n",
       "      <td>추천 댄디 룩</td>\n",
       "      <td>21.09.15</td>\n",
       "      <td>20162</td>\n",
       "      <td>27</td>\n",
       "    </tr>\n",
       "    <tr>\n",
       "      <th>4</th>\n",
       "      <td>캐주얼</td>\n",
       "      <td>릴랙스 룩</td>\n",
       "      <td>21.02.23</td>\n",
       "      <td>23514</td>\n",
       "      <td>22</td>\n",
       "    </tr>\n",
       "  </tbody>\n",
       "</table>\n",
       "</div>"
      ],
      "text/plain": [
       "  codimap_category codimap_title codimap_date  views comment_numbers\n",
       "0              캐주얼        톤온톤 코디     21.07.02  15972              49\n",
       "1              캐주얼        블랙 매니아     21.02.23  34641              46\n",
       "2              캐주얼        오늘의 코디     22.03.22  12172              38\n",
       "3               댄디       추천 댄디 룩     21.09.15  20162              27\n",
       "4              캐주얼         릴랙스 룩     21.02.23  23514              22"
      ]
     },
     "execution_count": 88,
     "metadata": {},
     "output_type": "execute_result"
    }
   ],
   "source": [
    "df.head(5)"
   ]
  },
  {
   "cell_type": "code",
   "execution_count": 90,
   "id": "7e84645f",
   "metadata": {
    "id": "7e84645f",
    "outputId": "76867c76-b234-4bd1-80be-e29220ccf8b0"
   },
   "outputs": [
    {
     "data": {
      "text/plain": [
       "(60, 5)"
      ]
     },
     "execution_count": 90,
     "metadata": {},
     "output_type": "execute_result"
    }
   ],
   "source": [
    "df.shape"
   ]
  },
  {
   "cell_type": "markdown",
   "id": "1df527c9",
   "metadata": {
    "id": "1df527c9"
   },
   "source": [
    "# Dataframe을 csv 파일로 저장"
   ]
  },
  {
   "cell_type": "code",
   "execution_count": 91,
   "id": "e12f8507",
   "metadata": {
    "id": "e12f8507"
   },
   "outputs": [],
   "source": [
    "df.to_csv('0707_크롤링_과제.csv', encoding = 'utf-8-sig')"
   ]
  },
  {
   "cell_type": "code",
   "execution_count": null,
   "id": "95676ee2",
   "metadata": {},
   "outputs": [],
   "source": []
  }
 ],
 "metadata": {
  "colab": {
   "provenance": []
  },
  "kernelspec": {
   "display_name": "Python 3 (ipykernel)",
   "language": "python",
   "name": "python3"
  },
  "language_info": {
   "codemirror_mode": {
    "name": "ipython",
    "version": 3
   },
   "file_extension": ".py",
   "mimetype": "text/x-python",
   "name": "python",
   "nbconvert_exporter": "python",
   "pygments_lexer": "ipython3",
   "version": "3.9.13"
  }
 },
 "nbformat": 4,
 "nbformat_minor": 5
}
